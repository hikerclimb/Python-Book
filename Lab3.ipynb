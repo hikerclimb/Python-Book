{
  "nbformat": 4,
  "nbformat_minor": 0,
  "metadata": {
    "colab": {
      "provenance": [],
      "authorship_tag": "ABX9TyMjOa97fSbavsKA1YDm+AUo",
      "include_colab_link": true
    },
    "kernelspec": {
      "name": "python3",
      "display_name": "Python 3"
    },
    "language_info": {
      "name": "python"
    }
  },
  "cells": [
    {
      "cell_type": "markdown",
      "metadata": {
        "id": "view-in-github",
        "colab_type": "text"
      },
      "source": [
        "<a href=\"https://colab.research.google.com/github/hikerclimb/Python-Book/blob/main/Lab3.ipynb\" target=\"_parent\"><img src=\"https://colab.research.google.com/assets/colab-badge.svg\" alt=\"Open In Colab\"/></a>"
      ]
    },
    {
      "cell_type": "code",
      "execution_count": 5,
      "metadata": {
        "id": "IRTFDuXTvh3i",
        "colab": {
          "base_uri": "https://localhost:8080/"
        },
        "outputId": "eb02e7a0-c9d9-448e-a03f-cc16f89b21e7"
      },
      "outputs": [
        {
          "output_type": "stream",
          "name": "stdout",
          "text": [
            "Type your name:Aniket\n",
            "Your name is: Aniket\n"
          ]
        }
      ],
      "source": [
        "name = input(\"Type your name: \")\n",
        "print(\"Your name is: \" + name)"
      ]
    }
  ]
}